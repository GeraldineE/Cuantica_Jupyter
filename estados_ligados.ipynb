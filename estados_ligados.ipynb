{
 "cells": [
  {
   "cell_type": "markdown",
   "metadata": {},
   "source": [
    "<div class=\"alert alert-success\">\n",
    "Este notebook de ipython depende de los modulos:  \n",
    "<li> `tecnicas_numericas`, ilustrado en el notebook [Técnicas numéricas](tecnicas_numericas.ipynb).  \n",
    "<li> `vis_int`, ilustrado en el notebook [Visualización e Interacción](vis_int.ipybn) (esta incluido en el `import` a `tecnicas_numericas`).  \n",
    "</div>"
   ]
  },
  {
   "cell_type": "code",
   "execution_count": 1,
   "metadata": {
    "collapsed": false
   },
   "outputs": [
    {
     "name": "stdout",
     "output_type": "stream",
     "text": [
      "['Box', 'Button', 'E_N', 'FloatSlider', 'HTML', 'IntSlider', 'K_Schr', 'Latex', 'Markdown', 'Math', 'Phi', 'Solve_Schr', 'Text', '__builtins__', '__cached__', '__doc__', '__file__', '__loader__', '__name__', '__package__', '__spec__', 'agregar_control', 'biseccion', 'clear_output', 'cos', 'discretizar', 'disparo', 'display', 'estacionario', 'exp', 'fixed', 'fun_contenedor_base', 'graficar_autofuncion', 'graficar_autovalor', 'graficar_funcion', 'graficar_potencial', 'graficar_punto_texto', 'incremental', 'interact', 'interactive', 'link', 'log', 'numerov', 'pi', 'plt', 'potencial', 'presion_disparo', 'raiz_n', 'sin', 'sqrt', 'tan']\n"
     ]
    }
   ],
   "source": [
    "from tecnicas_numericas import *\n",
    "import tecnicas_numericas\n",
    "print(dir(tecnicas_numericas))"
   ]
  },
  {
   "cell_type": "markdown",
   "metadata": {},
   "source": [
    "# Estados ligados"
   ]
  },
  {
   "cell_type": "markdown",
   "metadata": {},
   "source": [
    "El presente documento cumple como función ilustrar de forma interactiva el comportamiento de las soluciones de la ecuación de Schrödinger estacionaria para estados ligados en problemas 1D con la aplicación del método de Numerov."
   ]
  },
  {
   "cell_type": "markdown",
   "metadata": {},
   "source": [
    "## Simulación"
   ]
  },
  {
   "cell_type": "markdown",
   "metadata": {},
   "source": [
    "La aplicación del método del disparo con el algoritmo de Numerov, implica la búsqueda de raíces para encontrar los autovalores de energía. Su forma de proceder es mediante el avance regular en pasos de energía entre un mínimo y máximo hasta encontrar un cambio de signo en la evaluación la función de onda (o criterio equivalente, como la derivada logaritmica de la misma) hasta el punto de comparación. La presencia de este cambio de signo indica que existe una energía $E$ en el intervalo $[E_i, E_{i+1}]$ que es o raíz de la función de Numerov (por tanto autovalor del sistema) o una discontinuidad. Estas raíces y discontinuidas son asociadas a la función equivalente de cuantización de la energía, como en el problema típico de potencial finito lo es la ecuación trascendental (sin embargo, esta no aparace explicitamente en el modelo numerico)."
   ]
  },
  {
   "cell_type": "markdown",
   "metadata": {},
   "source": [
    "### Funciones de potencial"
   ]
  },
  {
   "cell_type": "markdown",
   "metadata": {},
   "source": [
    "Las soluciones de autovalores de energía de un sistema se asocian al potencial y geometría del sistema (condiciones de frontera para un problema sobre una línea por ser 1D), las cuales se deben imponer acorde a las condiciones físicas de interes. Para las condiciones de frontera sabemos que en los extremos estas deben anularse, así que solo hace falta describir el potencial al cual se esta sujeto.\n",
    "\n",
    "__Pozo infinito y finito__\n",
    "\n",
    "El potencial del pozo infinito es descrito como:\n",
    "\n",
    "\\begin{equation}\n",
    "V(x) = \\begin{cases}\n",
    "0 & |x| < \\frac{a}{2}\\\\\n",
    "\\infty & |x| \\geq \\frac{a}{2}\n",
    "\\end{cases}\n",
    "\\end{equation}\n",
    "\n",
    "Para el potencial de un pozo finito su potencial se puede describir como:\n",
    "\n",
    "\\begin{equation}\n",
    "V(x) = \\begin{cases}\n",
    "0 & |x| < \\frac{a}{2}\\\\\n",
    "V_0 & |x| \\geq \\frac{a}{2}\n",
    "\\end{cases}\n",
    "\\end{equation}\n",
    "\n",
    "Estos pozos son los casos básicos de estudio por la facilidad para su desarrollo análitico e interpretación sencilla. Se puede ver en estos casos de estudio aplicaciones en ...  "
   ]
  },
  {
   "cell_type": "code",
   "execution_count": 2,
   "metadata": {
    "collapsed": true
   },
   "outputs": [],
   "source": [
    "def V_inf(x):\n",
    "    return 0\n",
    "\n",
    "def V_fin(V_0, a, x):\n",
    "    if abs(x) < a/2:\n",
    "        return 0\n",
    "    else:\n",
    "        return V_0"
   ]
  },
  {
   "cell_type": "markdown",
   "metadata": {},
   "source": [
    "Para efectos numéricos el infinito se traslada a una longitud grande comparativamente al ancho del pozo, la cual se designará como $L$. En el caso de que $a = L$, corresponde justamente al pozo infinito, de manera que la simulación de estos dos casos requiere un solo control y es basado en el potencial finito.  "
   ]
  },
  {
   "cell_type": "code",
   "execution_count": 3,
   "metadata": {
    "collapsed": false
   },
   "outputs": [
    {
     "data": {
      "text/latex": [
       "\\(E_{1} = 0.08570021875000142\\)"
      ],
      "text/plain": [
       "<IPython.core.display.Latex object>"
      ]
     },
     "metadata": {},
     "output_type": "display_data"
    },
    {
     "data": {
      "image/png": "[encoded data removed]",
      "text/plain": [
       "<matplotlib.figure.Figure at 0x7f17e4d7fcf8>"
      ]
     },
     "metadata": {},
     "output_type": "display_data"
    }
   ],
   "source": [
    "control_pozo = fun_contenedor_base()\n",
    "agregar_control(control_pozo, FloatSlider(value = 5.2, min = .5, max= 10., step= .1, description='a'))\n",
    "pozo_link = link((control_pozo.children[1], 'min'), (control_pozo.children[4], 'value'))\n",
    "boton_pozo = Button(description='Simular pozo')\n",
    "def click_pozo(boton):\n",
    "    V_max = control_pozo.children[0].value\n",
    "    L = control_pozo.children[1].value\n",
    "    N = control_pozo.children[2].value\n",
    "    n = control_pozo.children[3].value\n",
    "    a = control_pozo.children[4].value\n",
    "    Vx = lambda x: V_fin(V_max, a, x)\n",
    "    Solve_Schr(Vx, V_max, L, N, n)\n",
    "    clear_output(wait=True)\n",
    "\n",
    "boton_pozo.on_click(click_pozo)\n",
    "display(control_pozo, boton_pozo)"
   ]
  },
  {
   "cell_type": "markdown",
   "metadata": {},
   "source": [
    "__Potencial armonico__  \n",
    "El potencial armonico cumple con la descripción dada por\n",
    "\\begin{equation}\n",
    "V(x) = \\frac{\\omega^2 x^2}{4}\n",
    "\\end{equation}"
   ]
  },
  {
   "cell_type": "code",
   "execution_count": 4,
   "metadata": {
    "collapsed": false
   },
   "outputs": [],
   "source": [
    "def V_arm(omega, x):\n",
    "    return omega**2 * x**2 / 4"
   ]
  },
  {
   "cell_type": "code",
   "execution_count": 5,
   "metadata": {
    "collapsed": false
   },
   "outputs": [
    {
     "data": {
      "text/latex": [
       "\\(E_{1} = 0.48633928124996284\\)"
      ],
      "text/plain": [
       "<IPython.core.display.Latex object>"
      ]
     },
     "metadata": {},
     "output_type": "display_data"
    },
    {
     "data": {
      "image/png": "[encoded data removed]",
      "text/plain": [
       "<matplotlib.figure.Figure at 0x7f17e4d7feb8>"
      ]
     },
     "metadata": {},
     "output_type": "display_data"
    }
   ],
   "source": [
    "control_arm = fun_contenedor_base()\n",
    "agregar_control(control_arm, FloatSlider(value = 1., min = .1, max= 4., step= .1, description='$\\omega$'))\n",
    "boton_arm = Button(description='Simular potencial')\n",
    "def click_arm(boton):\n",
    "    E_max = control_arm.children[0].value\n",
    "    L = control_arm.children[1].value\n",
    "    N = control_arm.children[2].value\n",
    "    n = control_arm.children[3].value\n",
    "    omega = control_arm.children[4].value\n",
    "    Vx = lambda x: V_arm(omega, x)\n",
    "    Solve_Schr(Vx, E_max, L, N, n)\n",
    "    clear_output(wait=True)\n",
    "\n",
    "boton_arm.on_click(click_arm)\n",
    "display(control_arm, boton_arm)"
   ]
  },
  {
   "cell_type": "markdown",
   "metadata": {},
   "source": [
    "__Potencial arbitrario__  \n",
    "El problema 1D puede ser resuelto para un problema de potencial arbitrario $V(x)$, donde `str_potencial` es un _string_ que representa la función del potencial. Debe tenerse en cuenta, tanto para este caso como los anteriores, que numéricamente el infinito es representado como una escala mayor por un cierta cantidad que la escala de interes del sistema.  \n",
    "\n",
    "_Actividad_ : Proponga una función potencial de interes y desarrolle el bloque de código requerido para simularlo con este notebook. Use como base las funciones desarrolladas en los notebooks y el bloque siguiente.  \n",
    "\n",
    "El bloque siguiente ilustra un problema de potencial armonico con anarmonicidad."
   ]
  },
  {
   "cell_type": "code",
   "execution_count": 6,
   "metadata": {
    "collapsed": false
   },
   "outputs": [
    {
     "data": {
      "text/latex": [
       "\\(E_{1} = 0.4872908437499627\\)"
      ],
      "text/plain": [
       "<IPython.core.display.Latex object>"
      ]
     },
     "metadata": {},
     "output_type": "display_data"
    },
    {
     "data": {
      "image/png": "[encoded data removed]",
      "text/plain": [
       "<matplotlib.figure.Figure at 0x7f17e4df25c0>"
      ]
     },
     "metadata": {},
     "output_type": "display_data"
    }
   ],
   "source": [
    "control_arb = fun_contenedor_base()\n",
    "E_max = control_arb.children[0]\n",
    "L = control_arb.children[1]\n",
    "N = control_arb.children[2]\n",
    "n = control_arb.children[3]\n",
    "n.value = 300\n",
    "L.value = 20.\n",
    "\n",
    "str_potencial = Text(value='x**2 / 4 + x**3 / 50', description= 'Potencial')\n",
    "str_potencial.funcion = lambda x: eval(str_potencial.value)\n",
    "agregar_control(control_arb, str_potencial)\n",
    "# Ingrese un texto en formato python con dependencia solo de 'x'.\n",
    "\n",
    "def ingreso_potencial(str_potencial):\n",
    "    str_potencial.funcion = lambda x: eval(str_potencial.value)\n",
    "    Vx = str_potencial.funcion\n",
    "    h = L.value / n.value\n",
    "    V_vec = [Vx(-L.value/2 + h*i) for i in range(n.value + 1)]\n",
    "    V_min = min(V_vec)\n",
    "    V_max = max(V_vec)\n",
    "    dV = (V_max - V_min) / 50\n",
    "    E_max.step = dV\n",
    "    E_max.min = V_min\n",
    "    E_max.max = V_max + (V_max - V_min)\n",
    "    E_max.value = V_max\n",
    "\n",
    "ingreso_potencial(str_potencial)\n",
    "boton_arb = Button(description='Simular potencial')\n",
    "    \n",
    "def click_arbitrario(boton):\n",
    "    Vx = str_potencial.funcion\n",
    "    Solve_Schr(Vx, E_max.value, L.value, N.value, n.value)\n",
    "    clear_output(wait=True)\n",
    "\n",
    "str_potencial.on_submit(ingreso_potencial)\n",
    "boton_arb.on_click(click_arbitrario)\n",
    "display(control_arb, boton_arb)"
   ]
  },
  {
   "cell_type": "markdown",
   "metadata": {},
   "source": [
    "Para potenciales no simétricos y con amplias diferencias entre el potencial máximo y mínimo se recomienda usar instancias directas de python e ipython, debido al comportamiento como servidor de las instancias de Jupyter, que provocan la terminación del llamado al kernel tras un \\textit{timeout}, de aproximadamente minuto y medio. Tras este periodo se recomienda reiniciar el kernel (tanto si es de ejecución local como en linea).  \n",
    "\n",
    "El caso con los siguientes parámetros toma 256s su solución y no es posible realizarlo en el notebook.  \n",
    "+ $L = 20$\n",
    "+ $N=1$\n",
    "+ $n=300$\n",
    "+ $V(x) = \\frac{x^2}{4} + 0.3 x^3$\n",
    "+ $E_{max} = 325$\n",
    "\n",
    "Se encuentra $E_1 = -241.0251$ y la función de onda graficada a continuación.  \n",
    "\n",
    "![Función de onda solución](x2_4p03x3.png \"Función de onda solución al potencial $\\frac{x^2}{4} + 0.3 x^3$\")"
   ]
  }
 ],
 "metadata": {
  "kernelspec": {
   "display_name": "Python 3",
   "language": "python",
   "name": "python3"
  },
  "language_info": {
   "codemirror_mode": {
    "name": "ipython",
    "version": 3
   },
   "file_extension": ".py",
   "mimetype": "text/x-python",
   "name": "python",
   "nbconvert_exporter": "python",
   "pygments_lexer": "ipython3",
   "version": "3.4.3"
  },
  "name": "estados_ligados.ipynb"
 },
 "nbformat": 4,
 "nbformat_minor": 0
}
