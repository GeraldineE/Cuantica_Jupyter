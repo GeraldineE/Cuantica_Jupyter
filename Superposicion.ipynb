{
 "cells": [
  {
   "cell_type": "markdown",
   "metadata": {},
   "source": [
    "# SUPERPOSICIÓN DE ONDAS"
   ]
  },
  {
   "cell_type": "markdown",
   "metadata": {},
   "source": [
    "## Ondas   \n",
    "\n",
    "## Principio de superposición  \n",
    "hablar sobre las ondas y que es el principio de superposición poner lo del capitulo 2 de Zetilli"
   ]
  },
  {
   "cell_type": "markdown",
   "metadata": {},
   "source": [
    "## Matplotlib    \n",
    "hablar sobre la libreria matplotlib"
   ]
  },
  {
   "cell_type": "code",
   "execution_count": 11,
   "metadata": {
    "collapsed": false
   },
   "outputs": [],
   "source": [
    "\"\"\"librerias\"\"\"\n",
    "import matplotlib.pyplot as plt\n",
    "from numpy import *\n",
    "from ipywidgets import *  \n",
    "#se crea un arreglo para definir en que valores se va a trabajar\n",
    "t=arange(0,1,0.01)\n"
   ]
  },
  {
   "cell_type": "code",
   "execution_count": 12,
   "metadata": {
    "collapsed": false
   },
   "outputs": [
    {
     "data": {
      "image/png": "[encoded data removed]",
      "text/plain": [
       "<matplotlib.figure.Figure at 0x7f16d200d4e0>"
      ]
     },
     "metadata": {},
     "output_type": "display_data"
    },
    {
     "data": {
      "image/png": "[encoded data removed]",
      "text/plain": [
       "<matplotlib.figure.Figure at 0x7f16d1f50dd8>"
      ]
     },
     "metadata": {},
     "output_type": "display_data"
    },
    {
     "data": {
      "image/png": "[encoded data removed]",
      "text/plain": [
       "<matplotlib.figure.Figure at 0x7f16d1eebac8>"
      ]
     },
     "metadata": {},
     "output_type": "display_data"
    },
    {
     "data": {
      "text/plain": [
       "<function __main__.pltsin>"
      ]
     },
     "execution_count": 12,
     "metadata": {},
     "output_type": "execute_result"
    }
   ],
   "source": [
    "#se define la función que va a crear ambas ondas y la resultante\n",
    "%matplotlib inline\n",
    "def pltsin(n1,f,n2,f2):\n",
    "    \"\"\"\n",
    "    n1= Amplitud de la primera onda\n",
    "    n2= Amplitud de la segunda onda\n",
    "    f= Frecuencia de la primera onda\n",
    "    f2= Frecuencia de la segunda onda\n",
    "    \"\"\"\n",
    "    plt.figure(1)\n",
    "    plt.plot(t,n1*sin(2*pi*t*f),'r')#ecuación de la primera onda\n",
    "    plt.title('Primera Onda')\n",
    "    plt.show() \n",
    "    # Se grafica la primera onda\n",
    "    plt.figure(2)\n",
    "    plt.plot(t,n2*sin(2*pi*t*f2))#ecuación de la segunda onda\n",
    "    plt.title('Segunda Onda')\n",
    "    plt.show()\n",
    "    #Se grafica la segunda onda\n",
    "    plt.figure(3)\n",
    "    plt.plot(t,(n2+n1)*sin(2*pi*t*f*f2),'g')#ecuación de la superposición\n",
    "    plt.title('Onda Superpuesta')\n",
    "    plt.show()\n",
    "    #Se grafica la superposición de ambas ondas\n",
    "interact(pltsin,n1=(-10,10,1),f=(1,10,1),n2=(-10,10,1),f2=(1,10,1))\n"
   ]
  },
  {
   "cell_type": "code",
   "execution_count": null,
   "metadata": {
    "collapsed": true
   },
   "outputs": [],
   "source": [
    "def superp(n):\n",
    "    "
   ]
  }
 ],
 "metadata": {
  "kernelspec": {
   "display_name": "Python 3",
   "language": "python",
   "name": "python3"
  },
  "language_info": {
   "codemirror_mode": {
    "name": "ipython",
    "version": 3
   },
   "file_extension": ".py",
   "mimetype": "text/x-python",
   "name": "python",
   "nbconvert_exporter": "python",
   "pygments_lexer": "ipython3",
   "version": "3.4.3"
  },
  "name": "Superposicion.ipynb"
 },
 "nbformat": 4,
 "nbformat_minor": 0
}
